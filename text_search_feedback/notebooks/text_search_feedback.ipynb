{
 "cells": [
  {
   "cell_type": "code",
   "execution_count": null,
   "metadata": {},
   "outputs": [],
   "source": [
    "# Jupyter notebook content for experimentation\n",
    "import sys\n",
    "sys.path.append('../src')\n",
    "\n",
    "from preprocess import tokenize_and_stem\n",
    "from search import vectorize_documents, find_most_relevant_doc\n",
    "\n",
    "docs = [\n",
    "    '''About us. We deliver Artificial Intelligence & Machine Learning solutions to solve business challenges.''',\n",
    "    '''Contact information. Email [martin davtyan at filament dot ai] if you have any questions.''',\n",
    "    '''Filament Chat. A framework for building and maintaining a scalable chatbot capability''',\n",
    "]\n",
    "\n",
    "# Vectorize the documents\n",
    "vectorizer = vectorize_documents(docs)\n",
    "\n",
    "# Define a query\n",
    "query = 'contact email to chat to martin'\n",
    "\n",
    "# Find the most relevant document\n",
    "most_relevant_doc, similarity = find_most_relevant_doc(vectorizer, docs, query)\n",
    "print(\"Most relevant document:\", most_relevant_doc)\n",
    "print(\"Similarity scores:\", similarity)\n"
   ]
  }
 ],
 "metadata": {
  "language_info": {
   "name": "python"
  }
 },
 "nbformat": 4,
 "nbformat_minor": 2
}
